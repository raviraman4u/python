{
 "cells": [
  {
   "cell_type": "markdown",
   "metadata": {},
   "source": [
    "# Basic Concepts and programing"
   ]
  },
  {
   "cell_type": "markdown",
   "metadata": {},
   "source": [
    "### Python Basic Programming"
   ]
  },
  {
   "cell_type": "code",
   "execution_count": 15,
   "metadata": {},
   "outputs": [
    {
     "name": "stdout",
     "output_type": "stream",
     "text": [
      "Hello World Ravi!\n",
      "Hello World Raman!\n"
     ]
    }
   ],
   "source": [
    "a#Write a Program ( WAP ) to print hello world\n",
    "\n",
    "print('Hello World Ravi!')\n",
    "print(\"Hello World Raman!\")"
   ]
  },
  {
   "cell_type": "code",
   "execution_count": 16,
   "metadata": {},
   "outputs": [
    {
     "name": "stdout",
     "output_type": "stream",
     "text": [
      "5\n",
      "<class 'int'>\n",
      "10.2\n",
      "<class 'float'>\n",
      "Ravi\n",
      "<class 'str'>\n",
      "Raman\n",
      "<class 'str'>\n",
      "True\n",
      "<class 'bool'>\n",
      "False\n",
      "<class 'bool'>\n"
     ]
    }
   ],
   "source": [
    "# Declare the following variables:\n",
    "#Int, Float, Boolean, String & print its value.\n",
    "\n",
    "# Integer variable \n",
    "\n",
    "integer_variable = 5\n",
    "\n",
    "print(integer_variable)\n",
    "print(type(integer_variable))\n",
    "\n",
    "# Float variable \n",
    "float_variable = 10.2\n",
    "print(float_variable)\n",
    "print(type(float_variable))\n",
    "\n",
    "# String variable \n",
    "string_variable_1 ='Ravi'\n",
    "print(string_variable_1)\n",
    "print(type(string_variable_1))\n",
    "\n",
    "string_variable_2 =\"Raman\"\n",
    "print(string_variable_2)\n",
    "print(type(string_variable_2))\n",
    "\n",
    "# Boolean variable \n",
    "\n",
    "boolean_variable_1 = True\n",
    "print(boolean_variable_1)\n",
    "print(type(boolean_variable_1))\n",
    "\n",
    "boolean_variable_2 = False\n",
    "print(boolean_variable_2)\n",
    "print(type(boolean_variable_2))"
   ]
  },
  {
   "cell_type": "code",
   "execution_count": 24,
   "metadata": {},
   "outputs": [
    {
     "name": "stdout",
     "output_type": "stream",
     "text": [
      "Enter triangle base : 3\n",
      "Enter triangle height : 3\n",
      "The area of triangle is :  4.5\n"
     ]
    }
   ],
   "source": [
    "#Program to calculate the Area of Triangle based on given height and base\n",
    "\n",
    "triangle_base = input(\"Enter triangle base : \")\n",
    "triangle_height = input(\"Enter triangle height : \")\n",
    "triangle_area = 1/2 *(int(triangle_base)* int(triangle_height))\n",
    "\n",
    "print(\"The area of triangle is : \", triangle_area )\n"
   ]
  },
  {
   "cell_type": "code",
   "execution_count": 11,
   "metadata": {},
   "outputs": [
    {
     "name": "stdout",
     "output_type": "stream",
     "text": [
      "Before swapping value of first_variable is : 10 and value of second variable is : 20\n",
      "After swapping value of first_variable is : 20 and value of second variable is : 10\n",
      "Before swapping with default constructer value of first_variable is : Ravi and value of second variable is : Raman\n",
      "After swapping with default constructer value of first_variable is : Raman and value of second variable is : Ravi\n",
      "Before swapping with integer value of first_variable is : 5 and value of second variable is : 3\n",
      "After swapping with integer value of first_variable is : 3 and value of second variable is : 5\n"
     ]
    }
   ],
   "source": [
    "#Program to swap two variables using temp variable\n",
    "\n",
    "fisrt_variable = 10\n",
    "second_variable = 20\n",
    "temp_variable = None\n",
    "\n",
    "print(\"Before swapping value of first_variable is : {} and value of second variable is : {}\".format(fisrt_variable,second_variable))\n",
    "\n",
    "temp_variable = fisrt_variable\n",
    "fisrt_variable = second_variable\n",
    "second_variable = temp_variable\n",
    "\n",
    "print(\"After swapping value of first_variable is : {} and value of second variable is : {}\".format(fisrt_variable,second_variable))\n",
    "\n",
    "# Program to swap two String variables without using temp variable, using constructer\n",
    "fisrt_variable = \"Ravi\"\n",
    "second_variable = \"Raman\"\n",
    "\n",
    "print(\"Before swapping with default constructer value of first_variable is : {} and value of second variable is : {}\".format(fisrt_variable,second_variable))\n",
    "fisrt_variable,second_variable = second_variable,fisrt_variable\n",
    "print(\"After swapping with default constructer value of first_variable is : {} and value of second variable is : {}\".format(fisrt_variable,second_variable))\n",
    "\n",
    "# Program to swap two integer variables without using temp variable\n",
    "\n",
    "fisrt_variable = 5\n",
    "second_variable = 3\n",
    "\n",
    "print(\"Before swapping with integer value of first_variable is : {} and value of second variable is : {}\".format(fisrt_variable,second_variable))\n",
    "\n",
    "fisrt_variable = fisrt_variable + second_variable\n",
    "\n",
    "second_variable = fisrt_variable - second_variable\n",
    "\n",
    "fisrt_variable = fisrt_variable - second_variable\n",
    "\n",
    "print(\"After swapping with integer value of first_variable is : {} and value of second variable is : {}\".format(fisrt_variable,second_variable))\n"
   ]
  },
  {
   "cell_type": "code",
   "execution_count": 18,
   "metadata": {},
   "outputs": [
    {
     "name": "stdout",
     "output_type": "stream",
     "text": [
      " Enter a valid number : -2\n",
      "The number entered -2 is negative\n"
     ]
    }
   ],
   "source": [
    "#Program is to check if a number is positive, negative or 0 \n",
    "# Input a valid number else exception will be thrown. Will handle exceptions later part of the code\n",
    "input_number = int(input(\" Enter a valid number : \"))\n",
    "\n",
    "if(input_number > 0):\n",
    "    print(\"The number entered {} is positive\".format(input_number))\n",
    "elif(input_number == 0):\n",
    "    print(\"The number entered {} is zero\".format(input_number))\n",
    "elif(input_number < 0):\n",
    "    print(\"The number entered {} is negative\".format(input_number))\n",
    "else:\n",
    "    print(\"oo lala god knows what's in your mind\")\n",
    "\n",
    "    \n"
   ]
  },
  {
   "cell_type": "code",
   "execution_count": 22,
   "metadata": {},
   "outputs": [
    {
     "name": "stdout",
     "output_type": "stream",
     "text": [
      " Enter a valid number : -1\n",
      "The number entered -1 is invalid \n"
     ]
    }
   ],
   "source": [
    "#Program is to check if a number is even or odd\n",
    "input_number = int(input(\" Enter a valid number : \"))\n",
    "\n",
    "if (input_number < 0):\n",
    "    print(\"The number entered {} is invalid \".format(input_number))\n",
    "elif(input_number == 0):\n",
    "    print(\"The number entered {} is even\".format(input_number))\n",
    "elif(input_number % 2 ==0):\n",
    "    print(\"The number entered {} is even\".format(input_number))\n",
    "else:\n",
    "    print(\"The number entered {} is odd\".format(input_number))\n",
    "    "
   ]
  },
  {
   "cell_type": "code",
   "execution_count": 29,
   "metadata": {},
   "outputs": [
    {
     "name": "stdout",
     "output_type": "stream",
     "text": [
      " Enter a range start number : 1\n",
      " Enter a range end number : 100\n",
      "The number 1 is odd\n",
      "The number 3 is odd\n",
      "The number 5 is odd\n",
      "The number 7 is odd\n",
      "The number 9 is odd\n",
      "The number 11 is odd\n",
      "The number 13 is odd\n",
      "The number 15 is odd\n",
      "The number 17 is odd\n",
      "The number 19 is odd\n",
      "The number 21 is odd\n",
      "The number 23 is odd\n",
      "The number 25 is odd\n",
      "The number 27 is odd\n",
      "The number 29 is odd\n",
      "The number 31 is odd\n",
      "The number 33 is odd\n",
      "The number 35 is odd\n",
      "The number 37 is odd\n",
      "The number 39 is odd\n",
      "The number 41 is odd\n",
      "The number 43 is odd\n",
      "The number 45 is odd\n",
      "The number 47 is odd\n",
      "The number 49 is odd\n",
      "The number 51 is odd\n",
      "The number 53 is odd\n",
      "The number 55 is odd\n",
      "The number 57 is odd\n",
      "The number 59 is odd\n",
      "The number 61 is odd\n",
      "The number 63 is odd\n",
      "The number 65 is odd\n",
      "The number 67 is odd\n",
      "The number 69 is odd\n",
      "The number 71 is odd\n",
      "The number 73 is odd\n",
      "The number 75 is odd\n",
      "The number 77 is odd\n",
      "The number 79 is odd\n",
      "The number 81 is odd\n",
      "The number 83 is odd\n",
      "The number 85 is odd\n",
      "The number 87 is odd\n",
      "The number 89 is odd\n",
      "The number 91 is odd\n",
      "The number 93 is odd\n",
      "The number 95 is odd\n",
      "The number 97 is odd\n",
      "The number 99 is odd\n"
     ]
    }
   ],
   "source": [
    "#Program to print Odd number within a given range\n",
    "range_start = int(input(\" Enter a range start number : \"))\n",
    "range_end = int(input(\" Enter a range end number : \"))\n",
    "\n",
    "for each_number in range(range_start,range_end):\n",
    "    if (each_number % 2 != 0):\n",
    "        print(\"The number {} is odd\".format(each_number))\n",
    "    else:\n",
    "        continue\n"
   ]
  },
  {
   "cell_type": "code",
   "execution_count": 49,
   "metadata": {},
   "outputs": [
    {
     "ename": "KeyboardInterrupt",
     "evalue": "Interrupted by user",
     "output_type": "error",
     "traceback": [
      "\u001b[0;31m---------------------------------------------------------------------------\u001b[0m",
      "\u001b[0;31mKeyboardInterrupt\u001b[0m                         Traceback (most recent call last)",
      "\u001b[0;32m<ipython-input-49-7eb99f00d768>\u001b[0m in \u001b[0;36m<module>\u001b[0;34m\u001b[0m\n\u001b[1;32m      1\u001b[0m \u001b[0;31m#Program to find the factorial of a number\u001b[0m\u001b[0;34m\u001b[0m\u001b[0;34m\u001b[0m\u001b[0;34m\u001b[0m\u001b[0m\n\u001b[1;32m      2\u001b[0m \u001b[0;34m\u001b[0m\u001b[0m\n\u001b[0;32m----> 3\u001b[0;31m \u001b[0mfactorial_input_number\u001b[0m \u001b[0;34m=\u001b[0m \u001b[0mint\u001b[0m\u001b[0;34m(\u001b[0m\u001b[0minput\u001b[0m\u001b[0;34m(\u001b[0m\u001b[0;34m\" Enter a valid number to get the factorial value : \"\u001b[0m\u001b[0;34m)\u001b[0m\u001b[0;34m)\u001b[0m\u001b[0;34m\u001b[0m\u001b[0;34m\u001b[0m\u001b[0m\n\u001b[0m\u001b[1;32m      4\u001b[0m \u001b[0;34m\u001b[0m\u001b[0m\n\u001b[1;32m      5\u001b[0m \u001b[0mfactorial_output\u001b[0m \u001b[0;34m=\u001b[0m \u001b[0;32mNone\u001b[0m\u001b[0;34m\u001b[0m\u001b[0;34m\u001b[0m\u001b[0m\n",
      "\u001b[0;32m~/anaconda3/lib/python3.8/site-packages/ipykernel/kernelbase.py\u001b[0m in \u001b[0;36mraw_input\u001b[0;34m(self, prompt)\u001b[0m\n\u001b[1;32m    858\u001b[0m                 \u001b[0;34m\"raw_input was called, but this frontend does not support input requests.\"\u001b[0m\u001b[0;34m\u001b[0m\u001b[0;34m\u001b[0m\u001b[0m\n\u001b[1;32m    859\u001b[0m             )\n\u001b[0;32m--> 860\u001b[0;31m         return self._input_request(str(prompt),\n\u001b[0m\u001b[1;32m    861\u001b[0m             \u001b[0mself\u001b[0m\u001b[0;34m.\u001b[0m\u001b[0m_parent_ident\u001b[0m\u001b[0;34m,\u001b[0m\u001b[0;34m\u001b[0m\u001b[0;34m\u001b[0m\u001b[0m\n\u001b[1;32m    862\u001b[0m             \u001b[0mself\u001b[0m\u001b[0;34m.\u001b[0m\u001b[0m_parent_header\u001b[0m\u001b[0;34m,\u001b[0m\u001b[0;34m\u001b[0m\u001b[0;34m\u001b[0m\u001b[0m\n",
      "\u001b[0;32m~/anaconda3/lib/python3.8/site-packages/ipykernel/kernelbase.py\u001b[0m in \u001b[0;36m_input_request\u001b[0;34m(self, prompt, ident, parent, password)\u001b[0m\n\u001b[1;32m    902\u001b[0m             \u001b[0;32mexcept\u001b[0m \u001b[0mKeyboardInterrupt\u001b[0m\u001b[0;34m:\u001b[0m\u001b[0;34m\u001b[0m\u001b[0;34m\u001b[0m\u001b[0m\n\u001b[1;32m    903\u001b[0m                 \u001b[0;31m# re-raise KeyboardInterrupt, to truncate traceback\u001b[0m\u001b[0;34m\u001b[0m\u001b[0;34m\u001b[0m\u001b[0;34m\u001b[0m\u001b[0m\n\u001b[0;32m--> 904\u001b[0;31m                 \u001b[0;32mraise\u001b[0m \u001b[0mKeyboardInterrupt\u001b[0m\u001b[0;34m(\u001b[0m\u001b[0;34m\"Interrupted by user\"\u001b[0m\u001b[0;34m)\u001b[0m \u001b[0;32mfrom\u001b[0m \u001b[0;32mNone\u001b[0m\u001b[0;34m\u001b[0m\u001b[0;34m\u001b[0m\u001b[0m\n\u001b[0m\u001b[1;32m    905\u001b[0m             \u001b[0;32mexcept\u001b[0m \u001b[0mException\u001b[0m \u001b[0;32mas\u001b[0m \u001b[0me\u001b[0m\u001b[0;34m:\u001b[0m\u001b[0;34m\u001b[0m\u001b[0;34m\u001b[0m\u001b[0m\n\u001b[1;32m    906\u001b[0m                 \u001b[0mself\u001b[0m\u001b[0;34m.\u001b[0m\u001b[0mlog\u001b[0m\u001b[0;34m.\u001b[0m\u001b[0mwarning\u001b[0m\u001b[0;34m(\u001b[0m\u001b[0;34m\"Invalid Message:\"\u001b[0m\u001b[0;34m,\u001b[0m \u001b[0mexc_info\u001b[0m\u001b[0;34m=\u001b[0m\u001b[0;32mTrue\u001b[0m\u001b[0;34m)\u001b[0m\u001b[0;34m\u001b[0m\u001b[0;34m\u001b[0m\u001b[0m\n",
      "\u001b[0;31mKeyboardInterrupt\u001b[0m: Interrupted by user"
     ]
    }
   ],
   "source": [
    "#Program to find the factorial of a number\n",
    "\n",
    "factorial_input_number = int(input(\" Enter a valid number to get the factorial value : \"))\n",
    "\n",
    "factorial_output = None\n",
    "\n",
    "for each_number in range(factorial_input_number,0,-1):\n",
    "    if (factorial_input_number == each_number):\n",
    "        factorial_output = each_number\n",
    "    else:\n",
    "        factorial_output = factorial_output * each_number\n",
    "    \n",
    "print(\"Factorial value for number {} is {}\".format(factorial_input_number,factorial_output))\n",
    "    \n"
   ]
  },
  {
   "cell_type": "code",
   "execution_count": 61,
   "metadata": {},
   "outputs": [
    {
     "name": "stdout",
     "output_type": "stream",
     "text": [
      " Enter a valid integer number to reverse : 120\n",
      "Input number is : 120\n",
      "0\n",
      "2\n",
      "21\n",
      "After reversal number is : 21\n"
     ]
    }
   ],
   "source": [
    "# Program to reverse a given number\n",
    "\n",
    "# Note if a number ending with zero then convert the number to String data type and use format to display leading zeros.\n",
    "\n",
    "reversal_input_number = int(input(\" Enter a valid integer number to reverse : \"))\n",
    "print(\"Input number is : {}\".format(reversal_input_number))\n",
    "reversal_output_number = 0\n",
    "# If we do modulus operation by 10 then either we will get the last digit as zero or non zero number\n",
    "while(reversal_input_number > 0):\n",
    "    last_digit_number = reversal_input_number % 10\n",
    "    \n",
    "    # We need to cpature the reversed number ( last digit)\n",
    "\n",
    "    reversal_output_number = (reversal_output_number *10) + last_digit_number\n",
    "    print(reversal_output_number)\n",
    "    # Now the from input number we need to remove the last digit as it's already got captured above\n",
    "\n",
    "    reversal_input_number = int(reversal_input_number / 10)\n",
    "   \n",
    "print(\"After reversal number is : {}\".format(reversal_output_number))"
   ]
  },
  {
   "cell_type": "code",
   "execution_count": 69,
   "metadata": {},
   "outputs": [
    {
     "name": "stdout",
     "output_type": "stream",
     "text": [
      " Enter natural number range start value : 3\n",
      " Enter natural number range end value : 2\n",
      "Natural number start range must be lesser than end range value.\n"
     ]
    }
   ],
   "source": [
    "#Program to find out the sum of Natural numbers\n",
    "\n",
    "natural_number_range_start = int(input(\" Enter natural number range start value : \"))\n",
    "natural_number_range_end = int(input(\" Enter natural number range end value : \"))\n",
    "sum_natural_numbers =0\n",
    "\n",
    "if(natural_number_range_start > 0 and natural_number_range_end > 0 ):\n",
    "    \n",
    "    if(natural_number_range_end < natural_number_range_start):\n",
    "        \n",
    "        print(\"Natural number start range must be lesser than end range value.\")\n",
    "    else:\n",
    "        \n",
    "        for each_natural_number in range(natural_number_range_start,natural_number_range_end + 1, 1):\n",
    "            sum_natural_numbers +=each_natural_number\n",
    "            \n",
    "        print(\"Sum of natural number for range {} till this {} is {}\".format(natural_number_range_start,natural_number_range_end,sum_natural_numbers))    \n",
    "    \n",
    "            \n",
    "else:\n",
    "    print(\"Input values should must be greater than 0\")\n",
    "    \n",
    "\n",
    "\n",
    "\n"
   ]
  },
  {
   "cell_type": "markdown",
   "metadata": {},
   "source": [
    "### Python Strings"
   ]
  },
  {
   "cell_type": "code",
   "execution_count": 86,
   "metadata": {},
   "outputs": [
    {
     "name": "stdout",
     "output_type": "stream",
     "text": [
      " Enter your string which needs to be reversed : ravi\n",
      " Input String is : ravi and it's reversed is : ivar\n",
      "Reversed String using slice is :  ivar\n"
     ]
    }
   ],
   "source": [
    "#Program to reverse a string without using recursion\n",
    "\n",
    "input_string = input(\" Enter your string which needs to be reversed : \")\n",
    "\n",
    "reversed_string =\"\"\n",
    "# Check if string is empty or not then only proceed\n",
    "if(input_string and input_string.strip()):\n",
    "         \n",
    "    for each_character in input_string:\n",
    "        reversed_string = each_character + reversed_string\n",
    "    print(\" Input String is : {} and it's reversed is : {}\".format(input_string,reversed_string))\n",
    "        \n",
    "else:\n",
    "    print(\"Invalid String !!!\")\n",
    "\n",
    "# Another way of doing is with slice\n",
    "if(input_string and input_string.strip()):\n",
    "    print(\"Reversed String using slice is : \", input_string[::-1])\n",
    "else:\n",
    "    print(\"Invalid String !!!\")\n",
    "    \n"
   ]
  },
  {
   "cell_type": "code",
   "execution_count": 107,
   "metadata": {},
   "outputs": [
    {
     "name": "stdout",
     "output_type": "stream",
     "text": [
      " Enter your string which needs to be checked for palindrom : raar\n",
      "The given string raar is palindrome\n",
      "The given string raar is palindrome\n",
      "The given string raar is palindrome\n"
     ]
    }
   ],
   "source": [
    "# Program to check if string is palindrome or not\n",
    "input_string = input(\" Enter your string which needs to be checked for palindrom : \")\n",
    "\n",
    "# Using Loops\n",
    "if(input_string and input_string.strip()):\n",
    "    for each_character_index_position in range(0, int(len(input_string)/2)):\n",
    "        if input_string[each_character_index_position] != input_string[len(input_string)-each_character_index_position-1]:\n",
    "            print(\"The given string {} is not palindrome\".format(input_string))\n",
    "        else:\n",
    "            print(\"The given string {} is palindrome\".format(input_string))\n",
    "\n",
    "else:\n",
    "    print(\"Invalid String !!!\")\n",
    "    \n",
    "# Another way using slicing to achive the same\n",
    "\n",
    "# Check if string is empty or not then only proceed\n",
    "if(input_string and input_string.strip()):\n",
    " \n",
    "    if(input_string == input_string[::-1]):\n",
    "        \n",
    "        print(\"The given string {} is palindrome\".format(input_string))\n",
    "    else:\n",
    "        print(\"The given string {} is not palindrome\".format(input_string))\n",
    "else:\n",
    "    print(\"Invalid String !!!\")\n",
    " \n"
   ]
  },
  {
   "cell_type": "code",
   "execution_count": 112,
   "metadata": {},
   "outputs": [
    {
     "name": "stdout",
     "output_type": "stream",
     "text": [
      " Enter your string : abcabcdefaaa\n",
      "Input String is : abcabcdefaaa and after replacing all 'a' with '$' is $bc$bcdef$$$\n"
     ]
    }
   ],
   "source": [
    "# Python Program to Replace all Occurrences of ‘a’ with $ in a String\n",
    "\n",
    "input_string = input(\" Enter your string : \")\n",
    "if(input_string and input_string.strip()):\n",
    "    \n",
    "    final_replaced_string = input_string.replace('a','$')\n",
    "    print(\"Input String is : {} and after replacing all 'a' with '$' is {}\".format(input_string,final_replaced_string))\n",
    "    \n",
    "else:\n",
    "    print(\"Invalid String !!!\")    "
   ]
  },
  {
   "cell_type": "code",
   "execution_count": 120,
   "metadata": {},
   "outputs": [
    {
     "name": "stdout",
     "output_type": "stream",
     "text": [
      " Enter your string : AEIOUAEIOUCDCDCD\n",
      "The total numbers of vowels in the string AEIOUAEIOUCDCDCD is : 10\n"
     ]
    }
   ],
   "source": [
    "# Python Program to Count the Number of Vowels in a String\n",
    "\n",
    "string_vowels =\"aeiou\"\n",
    "input_string = input(\" Enter your string : \")\n",
    "vowels_count=0\n",
    "if(input_string and input_string.strip()):\n",
    "    lowercase_input_string = input_string.lower()\n",
    "    for each_vowel in string_vowels:\n",
    "        if(lowercase_input_string.find(each_vowel)!=-1):\n",
    "            vowels_count+= lowercase_input_string.count(each_vowel,0,len(input_string))\n",
    "        else:\n",
    "            continue\n",
    "    print(\"The total numbers of vowels in the string {} is : {}\".format(input_string,vowels_count))\n",
    "\n",
    "else:\n",
    "    print(\"Invalid String !!!\")      \n",
    "\n"
   ]
  },
  {
   "cell_type": "code",
   "execution_count": 8,
   "metadata": {},
   "outputs": [
    {
     "name": "stdout",
     "output_type": "stream",
     "text": [
      "Enter first string: \n",
      "Enter second string: ra\n",
      "Larger string is : ra\n"
     ]
    }
   ],
   "source": [
    "# Python Program to Input Two Strings and Display the Larger String without Using Built-in Functions\n",
    "\n",
    "input_string1 = input(\"Enter first string: \")\n",
    "input_string2 = input(\"Enter second string: \")\n",
    "string1_count = 0\n",
    "string2_count = 0\n",
    "\n",
    "for each_character_in_string1 in input_string1:\n",
    "    string1_count = string1_count + 1\n",
    "\n",
    "for each_character_in_string2 in input_string2:\n",
    "    string2_count = string2_count + 1\n",
    "\n",
    "if (string1_count < string2_count):\n",
    "    print (\"Larger string is : {}\".format(input_string2))\n",
    "\n",
    "    \n",
    "elif (string1_count == string2_count):\n",
    "    print (\"Both strings {} and {} are equal.\".format(input_string1,input_string2))\n",
    "else:\n",
    "    print (\"Larger string is : {}\".format(input_string1))\n"
   ]
  },
  {
   "cell_type": "code",
   "execution_count": 13,
   "metadata": {},
   "outputs": [
    {
     "name": "stdout",
     "output_type": "stream",
     "text": [
      "Enter alpha nymeric string: ravi@1234\n",
      "For input string : ravi@1234 number of digits are : 4, no of letters are : 4 and non alphanumeric values are : 1\n"
     ]
    }
   ],
   "source": [
    "# Count the number of digits & letter in a string\n",
    "\n",
    "input_alpanumeric_string = input(\"Enter alpha numeric string: \")\n",
    "\n",
    "digit_counter =0\n",
    "letter_counter =0\n",
    "somethingelse_counter = 0\n",
    "for input_alpanumeric_character in input_alpanumeric_string:\n",
    "    if(input_alpanumeric_character.isdigit()):\n",
    "        digit_counter+=1\n",
    "    elif (input_alpanumeric_character.isalpha()):\n",
    "        letter_counter+=1\n",
    "    else :\n",
    "        somethingelse_counter+=1\n",
    "\n",
    "print(\"For input string : {} number of digits are : {}, no of letters are : {} and non alphanumeric values are : {}\".format(input_alpanumeric_string,digit_counter,letter_counter,somethingelse_counter))\n",
    "    \n",
    "    \n"
   ]
  },
  {
   "cell_type": "code",
   "execution_count": 16,
   "metadata": {},
   "outputs": [
    {
     "name": "stdout",
     "output_type": "stream",
     "text": [
      "Enter your string: RRaman raman\n",
      "For input string : RRaman raman number of lowercase characters are : 9\n"
     ]
    }
   ],
   "source": [
    "#Count Number of Lowercase Characters in a String\n",
    "\n",
    "input_string = input(\"Enter your string: \")\n",
    "\n",
    "lowercase_string_counter =0\n",
    "for input_string_character in input_string:\n",
    "    if(input_string_character.isalpha() and input_string_character.islower()):\n",
    "        lowercase_string_counter+=1\n",
    "    elif (input_string_character.isdigit()):\n",
    "        continue\n",
    "    else :\n",
    "        continue\n",
    "\n",
    "print(\"For input string : {} number of lowercase characters are : {}\".format(input_string,lowercase_string_counter))\n",
    " \n"
   ]
  },
  {
   "cell_type": "code",
   "execution_count": 30,
   "metadata": {},
   "outputs": [
    {
     "name": "stdout",
     "output_type": "stream",
     "text": [
      "Enter your main string:  \n",
      "Enter your sub string:  \n",
      "Input sub string :   found in provided main string :  \n"
     ]
    }
   ],
   "source": [
    "# Program to check if a Substring is Present in a Given String\n",
    "\n",
    "input_string = input(\"Enter your main string: \")\n",
    "input_sub_string = input(\"Enter your sub string: \")\n",
    "\n",
    "if(input_string.find(input_sub_string)!= -1):\n",
    "    print(\"Input sub string : {} found in provided main string : {}\".format(input_sub_string,input_string))\n",
    "else:\n",
    "    print(\"Input sub string : {} doesn't exists in provided main string : {}\".format(input_sub_string,input_string))\n"
   ]
  },
  {
   "cell_type": "markdown",
   "metadata": {},
   "source": [
    "### List and Tuples"
   ]
  },
  {
   "cell_type": "code",
   "execution_count": 31,
   "metadata": {},
   "outputs": [
    {
     "name": "stdout",
     "output_type": "stream",
     "text": [
      "Enter the list items seperated by space : 5 1 3 7\n",
      "Maximum number using forloop is  7\n",
      " Max number in the list using reverse index is :  7\n",
      " Max number in the list using max funtion is :  7\n"
     ]
    }
   ],
   "source": [
    "# Program to Find the Largest Number in a List\n",
    "\n",
    "\n",
    "input_number_list = [int(each_input_number) for each_input_number in input(\"Enter the list items seperated by space : \").split()]  \n",
    "      \n",
    "\n",
    "\n",
    "\n",
    "if(len(input_number_list) == 0):\n",
    "    print(\"The list is empty\")\n",
    "else:\n",
    "    # Let's assume the fisrt number is max number in the list \n",
    "    max_number = input_number_list[0]\n",
    "    # using for loop\n",
    "    for each_number in input_number_list:\n",
    "        if(each_number > max_number):\n",
    "            max_number = each_number\n",
    "\n",
    "    print(\" Max number using forloop is \", max_number)\n",
    "\n",
    "    #  Another appraoch by using sorting the list in ascending order\n",
    "\n",
    "    input_number_list.sort()\n",
    "\n",
    "    print(\" Max number in the list using reverse index is : \",input_number_list[-1])\n",
    "\n",
    "    print(\" Max number in the list using max funtion is : \",max(input_number_list))\n",
    "\n",
    "\n",
    "            \n",
    "        \n",
    "\n"
   ]
  },
  {
   "cell_type": "markdown",
   "metadata": {},
   "source": []
  },
  {
   "cell_type": "code",
   "execution_count": 34,
   "metadata": {},
   "outputs": [
    {
     "name": "stdout",
     "output_type": "stream",
     "text": [
      "Enter the list items seperated by space : 8 4 5 1 2\n",
      "For given input list : [8, 4, 5, 1, 2] the even list is : [8, 4, 2] and odd list is : [5, 1]\n"
     ]
    }
   ],
   "source": [
    "# Program to Put Even and Odd elements in a List into Two Different Lists\n",
    "\n",
    "input_odd_even_number_list = [int(each_input_number) for each_input_number in input(\"Enter the list items seperated by space : \").split()]\n",
    "\n",
    "even_number_list = []\n",
    "odd_number_list = []\n",
    "if(len(input_number_list) == 0):\n",
    "    print(\"The list is empty\")\n",
    "else:\n",
    "    for each_number in input_odd_even_number_list:\n",
    "        if(each_number == 0):\n",
    "            even_number_list.append(each_number)\n",
    "        elif(each_number % 2 == 0):\n",
    "            even_number_list.append(each_number)\n",
    "        else:\n",
    "            odd_number_list.append(each_number)\n",
    "    print(\"For given input list : {} the even list is : {} and odd list is : {}\".format(input_odd_even_number_list,even_number_list,odd_number_list))\n",
    "\n",
    " "
   ]
  },
  {
   "cell_type": "code",
   "execution_count": 13,
   "metadata": {},
   "outputs": [
    {
     "name": "stdout",
     "output_type": "stream",
     "text": [
      "Enter the list words seperated by space : 1 2\n",
      " For given input word list : ['1', '2'] the longest word is : 1 having length : 1\n"
     ]
    }
   ],
   "source": [
    "# Program to Read a List of Words and Return the Length of the Longest One:\n",
    "input_words_list = [each_input_word for each_input_word in input(\"Enter the list words seperated by space : \").split()]\n",
    "\n",
    "if(len(input_words_list) == 0):\n",
    "    print(\"No Word entered\")\n",
    "else:\n",
    "    # Let's assume the fisrt word is having max length and longest word\n",
    "    \n",
    "    max_word_length = len(input_words_list[0])\n",
    "    max_length_word = input_words_list[0]\n",
    "    # using for loop\n",
    "    for each_word in input_words_list:\n",
    "        if(len(each_word) > max_word_length):\n",
    "            print(\"max_length_word\",max_length_word)\n",
    "            max_word_length = len(each_word)\n",
    "            max_length_word = each_word\n",
    "\n",
    "    print(\" For given input word list : {} the longest word is : {} having length : {}\".format(input_words_list,max_length_word,max_word_length))\n",
    "    \n",
    "\n"
   ]
  },
  {
   "cell_type": "code",
   "execution_count": 24,
   "metadata": {},
   "outputs": [
    {
     "name": "stdout",
     "output_type": "stream",
     "text": [
      "Enter the list items seperated by space : 1 7 9\n",
      " For entered tuple : [1, 3, 5, 7] the list of tuples will be : [(1, 1), (7, 49), (9, 81)]\n"
     ]
    }
   ],
   "source": [
    "# Create a List of Tuples with the First Element as the Number and Second Element as the Square of the Number\n",
    "input_number_tuple = tuple(int(each_input_number) for each_input_number in input(\"Enter the list items seperated by space : \").split())\n",
    "\n",
    "if( len(input_number_tuple) == 0):\n",
    "    print(\"No Numberes entered for the tuple\")\n",
    "else:\n",
    "    #input_number_tuple = tuple(input_number_list)\n",
    "    list_of_tuples = []\n",
    "    \n",
    "    for each_number_in_tuple in input_number_tuple:\n",
    "        square_root_number = each_number_in_tuple*each_number_in_tuple\n",
    "        list_of_tuples.append(tuple([each_number_in_tuple,square_root_number]))\n",
    "    print(\" For entered tuple : {} the list of tuples will be : {}\".format(input_number_list,list_of_tuples) )\n",
    "\n",
    "        \n",
    "        \n",
    "        \n"
   ]
  },
  {
   "cell_type": "code",
   "execution_count": 29,
   "metadata": {},
   "outputs": [
    {
     "name": "stdout",
     "output_type": "stream",
     "text": [
      "Enter the list items seperated by space : 1 1 2 2\n",
      "Entered list of numbers : [1, 1, 2, 2] and distinct list of numbers [1, 2]\n"
     ]
    }
   ],
   "source": [
    "# Program to Remove the Duplicate Items from a List\n",
    "\n",
    "input_number_list = [int(each_input_number) for each_input_number in input(\"Enter the list items seperated by space : \").split()]\n",
    "\n",
    "if(len(input_number_list) == 0):\n",
    "    print(\"The list is empty\")\n",
    "else:\n",
    "    distinct_list = []\n",
    "    [distinct_list.append(each_number) for each_number in input_number_list if each_number not in distinct_list]\n",
    "    print(\"Entered list of numbers : {} and distinct list of numbers {}\".format(input_number_list,distinct_list) ) "
   ]
  },
  {
   "cell_type": "code",
   "execution_count": null,
   "metadata": {},
   "outputs": [],
   "source": []
  }
 ],
 "metadata": {
  "kernelspec": {
   "display_name": "Python 3",
   "language": "python",
   "name": "python3"
  },
  "language_info": {
   "codemirror_mode": {
    "name": "ipython",
    "version": 3
   },
   "file_extension": ".py",
   "mimetype": "text/x-python",
   "name": "python",
   "nbconvert_exporter": "python",
   "pygments_lexer": "ipython3",
   "version": "3.8.3"
  }
 },
 "nbformat": 4,
 "nbformat_minor": 4
}
